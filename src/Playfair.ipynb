{
  "cells": [
    {
      "cell_type": "markdown",
      "metadata": {
        "id": "mdZaq5N8NyVk"
      },
      "source": [
        "Import libary"
      ]
    },
    {
      "cell_type": "code",
      "execution_count": 1,
      "metadata": {
        "id": "aJaF35N0NpBq"
      },
      "outputs": [
        {
          "name": "stderr",
          "output_type": "stream",
          "text": [
            "2025-02-27 13:36:32.124590: I external/local_xla/xla/tsl/cuda/cudart_stub.cc:32] Could not find cuda drivers on your machine, GPU will not be used.\n",
            "2025-02-27 13:36:32.144661: I external/local_xla/xla/tsl/cuda/cudart_stub.cc:32] Could not find cuda drivers on your machine, GPU will not be used.\n",
            "2025-02-27 13:36:32.216968: E external/local_xla/xla/stream_executor/cuda/cuda_fft.cc:477] Unable to register cuFFT factory: Attempting to register factory for plugin cuFFT when one has already been registered\n",
            "WARNING: All log messages before absl::InitializeLog() is called are written to STDERR\n",
            "E0000 00:00:1740638192.347073   20922 cuda_dnn.cc:8310] Unable to register cuDNN factory: Attempting to register factory for plugin cuDNN when one has already been registered\n",
            "E0000 00:00:1740638192.384134   20922 cuda_blas.cc:1418] Unable to register cuBLAS factory: Attempting to register factory for plugin cuBLAS when one has already been registered\n",
            "2025-02-27 13:36:32.492977: I tensorflow/core/platform/cpu_feature_guard.cc:210] This TensorFlow binary is optimized to use available CPU instructions in performance-critical operations.\n",
            "To enable the following instructions: AVX2 FMA, in other operations, rebuild TensorFlow with the appropriate compiler flags.\n"
          ]
        }
      ],
      "source": [
        "import pandas as pd\n",
        "import tensorflow\n",
        "\n",
        "import matplotlib.pyplot as plt\n",
        "from tensorflow.keras.callbacks import EarlyStopping\n",
        "import numpy as np\n",
        "from tensorflow.keras.models import load_model\n",
        "from tensorflow.keras.preprocessing.text import Tokenizer\n",
        "from tensorflow.keras.preprocessing.sequence import pad_sequences\n",
        "from tensorflow.keras import backend as K\n",
        "from sklearn.model_selection import train_test_split\n",
        "from sklearn.preprocessing import LabelEncoder\n",
        "\n",
        "from tensorflow.keras.callbacks import ModelCheckpoint\n",
        "from tensorflow.keras.models import Sequential, Model\n",
        "from tensorflow.keras.layers import Dense, LSTM, Dropout, Embedding, RepeatVector, TimeDistributed, Input, Activation, Lambda, Flatten\n",
        "from keras.callbacks import ModelCheckpoint\n"
      ]
    },
    {
      "cell_type": "markdown",
      "metadata": {
        "id": "dSmYugffN6O_"
      },
      "source": [
        "# Convention\n",
        "Vector: 1D\n",
        "Matrix: 2D\n",
        "Tensor: 3D\n",
        "\n",
        "\n",
        "\n",
        "# Example of dataset read by pandas\n",
        "\n",
        "Plain Text\tKey\tCipher Text\tEncrypted Text\n",
        "\n",
        "taeniform\tSECRET\tSGSOLBQEKZ\tTAENIFORM\n",
        "\n",
        "fitting\tSECRET\tBLCZEMUA\tFITTING\n"
      ]
    },
    {
      "cell_type": "code",
      "execution_count": 20,
      "metadata": {
        "id": "cpslJhhj2HXE"
      },
      "outputs": [],
      "source": [
        "EPORCHS = 10\n",
        "LSTM_N_UNITS = 32\n",
        "SIZE = 10000\n",
        "TRAIN_SIZE = 10000 * 0.8\n",
        "TEST_SIZE = 10000 * 0.2\n",
        "\n",
        "\n",
        "# Maximize number of token in each vector\n",
        "# => Convention fix in 40 character for input and 8 character for key\n",
        "MAX_DECRYPT_SEQUENCES_LEN = 100 # Number of word, character to decrypt word\n",
        "MAX_KEY_SEQUENCES_LEN = 8\n"
      ]
    },
    {
      "cell_type": "code",
      "execution_count": 4,
      "metadata": {
        "id": "pCkmLkWj2N8G"
      },
      "outputs": [],
      "source": [
        "def load_data(filename , feature_cols, label_col: str):\n",
        "    df = pd.read_excel(filename)\n",
        "    return df[feature_cols], df[label_col]\n",
        "\n",
        "\n",
        "\n",
        "\n",
        "def tokenize_normalize(tokenizer, maxlen, corpus):\n",
        "    \"\"\"\n",
        "    Perform tokenizer and padding message\n",
        "    Required tokenizer fit on corpus before proccessing this action\n",
        "    Example:\n",
        "        tokenizer = Tokenizer(char_level = True)\n",
        "        tokenizer.fit_on_texts(features)\n",
        "\n",
        "    Padding ensure all sequence same length, so maxlen have higher length\n",
        "    text length in corpus to garuantee not loss of data.\n",
        "\n",
        "    Return tuple of tokenizered_corpus and padded_corpus\n",
        "    \"\"\"\n",
        "    tokenizered_corpus = tokenizer.texts_to_sequences(corpus)\n",
        "    padded_corpus = pad_sequences(tokenizered_corpus, maxlen= maxlen, padding=\"post\", truncating=\"post\")\n",
        "    return tokenizered_corpus, padded_corpus\n",
        "def tensor_post_proccess(tensor):\n",
        "    \"\"\"\n",
        "    Assume prediction value will have shape (None, 8)\n",
        "    Normalize to (None, 8, 1), round floating point convert to int\n",
        "    Prediction will not follow original style, we need to add more demension to decode\n",
        "    \"\"\"\n",
        "    # seq = np.expand_dims(seq, axis = 2)\n",
        "    normal_tensor = np.argmax(tensor, axis=-1)\n",
        "    # matrix = one_hot_decode(normal_tensor)\n",
        "\n",
        "\n",
        "    return normal_tensor\n",
        "\n",
        "\n",
        "def decode_seq(matrix, tokenizer):\n",
        "    \"\"\"\n",
        "    Assume input shape is (8, 1) from one vector\n",
        "    Recontructure origin text base on input seq vector\n",
        "    \"\"\"\n",
        "    return \"\".join(tokenizer.sequences_to_texts(matrix)).strip()\n",
        "def detokenizer(matrix, tokenizer):\n",
        "    return [word.replace(\" \", \"\") for word in  tokenizer.sequences_to_texts(matrix)]\n",
        "\n"
      ]
    },
    {
      "cell_type": "code",
      "execution_count": 8,
      "metadata": {
        "colab": {
          "base_uri": "https://localhost:8080/"
        },
        "id": "xm6ajVy2PRQH",
        "outputId": "5c760d65-39c9-4abf-d16e-5ebecd128dab"
      },
      "outputs": [
        {
          "name": "stdout",
          "output_type": "stream",
          "text": [
            "--2025-02-27 13:33:11--  https://github.com/trung-kieen/playfair-key-prediction/raw/refs/heads/main/src/PLAYFAIR_CIPHER_DATASET_RANDOM_KEY_10000.xlsx\n"
          ]
        },
        {
          "name": "stdout",
          "output_type": "stream",
          "text": [
            "Loaded CA certificate '/etc/ssl/certs/ca-certificates.crt'\n",
            "Resolving github.com (github.com)... 20.205.243.166\n",
            "Connecting to github.com (github.com)|20.205.243.166|:443... connected.\n",
            "HTTP request sent, awaiting response... 302 Found\n",
            "Location: https://raw.githubusercontent.com/trung-kieen/playfair-key-prediction/refs/heads/main/src/PLAYFAIR_CIPHER_DATASET_RANDOM_KEY_10000.xlsx [following]\n",
            "--2025-02-27 13:33:12--  https://raw.githubusercontent.com/trung-kieen/playfair-key-prediction/refs/heads/main/src/PLAYFAIR_CIPHER_DATASET_RANDOM_KEY_10000.xlsx\n",
            "Resolving raw.githubusercontent.com (raw.githubusercontent.com)... 2606:50c0:8002::154, 2606:50c0:8003::154, 2606:50c0:8000::154, ...\n",
            "Connecting to raw.githubusercontent.com (raw.githubusercontent.com)|2606:50c0:8002::154|:443... connected.\n",
            "HTTP request sent, awaiting response... 200 OK\n",
            "Length: 1190938 (1,1M) [application/octet-stream]\n",
            "Saving to: ‘PLAYFAIR_CIPHER_DATASET_RANDOM_KEY_10000.xlsx.1’\n",
            "\n",
            "PLAYFAIR_CIPHER_DAT 100%[===================>]   1,14M  1,29MB/s    in 0,9s    \n",
            "\n",
            "2025-02-27 13:33:14 (1,29 MB/s) - ‘PLAYFAIR_CIPHER_DATASET_RANDOM_KEY_10000.xlsx.1’ saved [1190938/1190938]\n",
            "\n"
          ]
        }
      ],
      "source": [
        "!wget \"https://github.com/trung-kieen/playfair-key-prediction/raw/refs/heads/main/src/PLAYFAIR_CIPHER_DATASET_RANDOM_KEY_10000.xlsx\""
      ]
    },
    {
      "cell_type": "code",
      "execution_count": 5,
      "metadata": {
        "id": "wzoFukpv-z9c"
      },
      "outputs": [],
      "source": [
        "filename = \"PLAYFAIR_CIPHER_DATASET_RANDOM_KEY_10000.xlsx\"\n",
        "feature_names= \"Encrypted Text\"\n",
        "label_name = \"Key\"\n",
        "features, labels = load_data(filename, feature_names, label_name)\n"
      ]
    },
    {
      "cell_type": "markdown",
      "metadata": {
        "id": "USVQONLdP2z6"
      },
      "source": [
        "Encrypted text and key for encrypt those text are used as features and labels for training"
      ]
    },
    {
      "cell_type": "code",
      "execution_count": 6,
      "metadata": {
        "colab": {
          "base_uri": "https://localhost:8080/",
          "height": 424
        },
        "id": "ESOPGwLF4Qqr",
        "outputId": "116b9ecb-7837-4b21-8334-33a39bff3a23"
      },
      "outputs": [
        {
          "data": {
            "text/html": [
              "<div>\n",
              "<style scoped>\n",
              "    .dataframe tbody tr th:only-of-type {\n",
              "        vertical-align: middle;\n",
              "    }\n",
              "\n",
              "    .dataframe tbody tr th {\n",
              "        vertical-align: top;\n",
              "    }\n",
              "\n",
              "    .dataframe thead th {\n",
              "        text-align: right;\n",
              "    }\n",
              "</style>\n",
              "<table border=\"1\" class=\"dataframe\">\n",
              "  <thead>\n",
              "    <tr style=\"text-align: right;\">\n",
              "      <th></th>\n",
              "      <th>0</th>\n",
              "      <th>1</th>\n",
              "    </tr>\n",
              "  </thead>\n",
              "  <tbody>\n",
              "    <tr>\n",
              "      <th>0</th>\n",
              "      <td>QHUNPTSDREBLAUCFODBEATYLVOCATIPSLZLY</td>\n",
              "      <td>NONSP</td>\n",
              "    </tr>\n",
              "    <tr>\n",
              "      <th>1</th>\n",
              "      <td>RAPRYRMZIDALRPSNAIODIDESCILXYLNCYNANTHAEPY</td>\n",
              "      <td>PORRE</td>\n",
              "    </tr>\n",
              "    <tr>\n",
              "      <th>2</th>\n",
              "      <td>WOOMFEKEOMGICSATRTHIERCIFORMSOINRNUNSWSEET</td>\n",
              "      <td>ALLOM</td>\n",
              "    </tr>\n",
              "    <tr>\n",
              "      <th>3</th>\n",
              "      <td>DBADSMOSINCUFBAPVERCQMPTRHLZLMOXOTQWLORONAIASERA</td>\n",
              "      <td>NONSP</td>\n",
              "    </tr>\n",
              "    <tr>\n",
              "      <th>4</th>\n",
              "      <td>MEGAMFPYRWCKOKHNAXAEROSCOPVXENENATIONX</td>\n",
              "      <td>ALLOM</td>\n",
              "    </tr>\n",
              "    <tr>\n",
              "      <th>...</th>\n",
              "      <td>...</td>\n",
              "      <td>...</td>\n",
              "    </tr>\n",
              "    <tr>\n",
              "      <th>9995</th>\n",
              "      <td>QSOAUAINCBEAMZINIFPAANHEHLOSISBALXHLUNITEX</td>\n",
              "      <td>PORRE</td>\n",
              "    </tr>\n",
              "    <tr>\n",
              "      <th>9996</th>\n",
              "      <td>SIVPHPQUEZADSTIWGVLGYEGAUPQNINLSNTIONALX</td>\n",
              "      <td>PHOTO</td>\n",
              "    </tr>\n",
              "    <tr>\n",
              "      <th>9997</th>\n",
              "      <td>EASTERNISMACROPTSXLZHYKTROBTUQIXVEPLIABLERBDEW...</td>\n",
              "      <td>NONSP</td>\n",
              "    </tr>\n",
              "    <tr>\n",
              "      <th>9998</th>\n",
              "      <td>INSPIRITMENTFROUALESYNTACTVIPRCNORCENLONQTKAEM...</td>\n",
              "      <td>CALEN</td>\n",
              "    </tr>\n",
              "    <tr>\n",
              "      <th>9999</th>\n",
              "      <td>SAOMEHGRAPEYLIEORAIFEORHEMVIHOARATEVISITEXEX</td>\n",
              "      <td>CALEN</td>\n",
              "    </tr>\n",
              "  </tbody>\n",
              "</table>\n",
              "<p>10000 rows × 2 columns</p>\n",
              "</div>"
            ],
            "text/plain": [
              "                                                      0      1\n",
              "0                  QHUNPTSDREBLAUCFODBEATYLVOCATIPSLZLY  NONSP\n",
              "1            RAPRYRMZIDALRPSNAIODIDESCILXYLNCYNANTHAEPY  PORRE\n",
              "2            WOOMFEKEOMGICSATRTHIERCIFORMSOINRNUNSWSEET  ALLOM\n",
              "3      DBADSMOSINCUFBAPVERCQMPTRHLZLMOXOTQWLORONAIASERA  NONSP\n",
              "4                MEGAMFPYRWCKOKHNAXAEROSCOPVXENENATIONX  ALLOM\n",
              "...                                                 ...    ...\n",
              "9995         QSOAUAINCBEAMZINIFPAANHEHLOSISBALXHLUNITEX  PORRE\n",
              "9996           SIVPHPQUEZADSTIWGVLGYEGAUPQNINLSNTIONALX  PHOTO\n",
              "9997  EASTERNISMACROPTSXLZHYKTROBTUQIXVEPLIABLERBDEW...  NONSP\n",
              "9998  INSPIRITMENTFROUALESYNTACTVIPRCNORCENLONQTKAEM...  CALEN\n",
              "9999       SAOMEHGRAPEYLIEORAIFEORHEMVIHOARATEVISITEXEX  CALEN\n",
              "\n",
              "[10000 rows x 2 columns]"
            ]
          },
          "execution_count": 6,
          "metadata": {},
          "output_type": "execute_result"
        }
      ],
      "source": [
        "pd.DataFrame(zip(features, labels))"
      ]
    },
    {
      "cell_type": "markdown",
      "metadata": {
        "id": "vE4GOVXwQPAi"
      },
      "source": [
        "Prepare tokenizer for character encoding"
      ]
    },
    {
      "cell_type": "code",
      "execution_count": 7,
      "metadata": {
        "id": "9gZQ1g2r4SSJ"
      },
      "outputs": [],
      "source": [
        "    feature_tokenizer = Tokenizer(char_level=True)\n",
        "    feature_tokenizer.fit_on_texts(features)\n",
        "\n",
        "    label_tokenizer = Tokenizer(char_level=True)\n",
        "    label_tokenizer.fit_on_texts(labels)\n"
      ]
    },
    {
      "cell_type": "markdown",
      "metadata": {
        "id": "0aPEkFUQQgFT"
      },
      "source": [
        "Tokenizer will defined how word be encode"
      ]
    },
    {
      "cell_type": "code",
      "execution_count": 8,
      "metadata": {
        "colab": {
          "base_uri": "https://localhost:8080/"
        },
        "id": "ioK50FRoQW3Y",
        "outputId": "56e95082-d073-4ee6-ebab-1dca10120171"
      },
      "outputs": [
        {
          "data": {
            "text/plain": [
              "{'e': 1,\n",
              " 'a': 2,\n",
              " 'o': 3,\n",
              " 'i': 4,\n",
              " 'n': 5,\n",
              " 'r': 6,\n",
              " 'l': 7,\n",
              " 's': 8,\n",
              " 't': 9,\n",
              " 'p': 10,\n",
              " 'c': 11,\n",
              " 'm': 12,\n",
              " 'u': 13,\n",
              " 'h': 14,\n",
              " 'b': 15,\n",
              " 'x': 16,\n",
              " 'y': 17,\n",
              " 'd': 18,\n",
              " 'g': 19,\n",
              " 'q': 20,\n",
              " 'k': 21,\n",
              " 'v': 22,\n",
              " 'f': 23,\n",
              " 'w': 24,\n",
              " 'z': 25}"
            ]
          },
          "execution_count": 8,
          "metadata": {},
          "output_type": "execute_result"
        }
      ],
      "source": [
        "feature_tokenizer.word_index"
      ]
    },
    {
      "cell_type": "markdown",
      "metadata": {
        "id": "xsJyMlunQofr"
      },
      "source": [
        "Perform tokenizer and padding text. Result  of this process are vectors with same length"
      ]
    },
    {
      "cell_type": "code",
      "execution_count": 9,
      "metadata": {
        "id": "Q-kIuezQQkXw"
      },
      "outputs": [],
      "source": [
        "features_padded = tokenize_normalize(feature_tokenizer, MAX_DECRYPT_SEQUENCES_LEN, features)[1]\n",
        "labels_padded = tokenize_normalize(label_tokenizer, MAX_KEY_SEQUENCES_LEN, labels)[1]\n"
      ]
    },
    {
      "cell_type": "code",
      "execution_count": 10,
      "metadata": {
        "colab": {
          "base_uri": "https://localhost:8080/"
        },
        "id": "3b_YG6PKQxZQ",
        "outputId": "c3462ea4-3bd2-4fb3-ce6d-ae113842f189"
      },
      "outputs": [
        {
          "data": {
            "text/plain": [
              "array([[20, 14, 13, ...,  0,  0,  0],\n",
              "       [ 6,  2, 10, ...,  0,  0,  0],\n",
              "       [24,  3,  3, ...,  0,  0,  0],\n",
              "       ...,\n",
              "       [ 1,  2,  8, ...,  0,  0,  0],\n",
              "       [ 4,  5,  8, ...,  0,  0,  0],\n",
              "       [ 8,  2,  3, ...,  0,  0,  0]], dtype=int32)"
            ]
          },
          "execution_count": 10,
          "metadata": {},
          "output_type": "execute_result"
        }
      ],
      "source": [
        "features_padded"
      ]
    },
    {
      "cell_type": "code",
      "execution_count": 11,
      "metadata": {
        "id": "3OCOR1DjQ54L"
      },
      "outputs": [],
      "source": [
        "encrypt_vocab_size = len(feature_tokenizer.word_index) + 4\n",
        "key_vocab_size = len(label_tokenizer.word_index) + 4\n"
      ]
    },
    {
      "cell_type": "code",
      "execution_count": 12,
      "metadata": {
        "id": "ZdESf0miQ-o1"
      },
      "outputs": [],
      "source": [
        "X_train, X_test, y_train, y_test = train_test_split(features_padded, labels_padded, test_size=0.2, random_state=42)"
      ]
    },
    {
      "cell_type": "markdown",
      "metadata": {
        "id": "Pk1EgmtwQ_8a"
      },
      "source": [
        "Now let define Seq2Seq model"
      ]
    },
    {
      "cell_type": "code",
      "execution_count": 13,
      "metadata": {
        "id": "NSYItZ6URcuU"
      },
      "outputs": [],
      "source": [
        "def rnn_machine_translate_model(input_vocab, output_vocab, input_timesteps, output_timesteps, n_units, n_features):\n",
        "\n",
        "    model = Sequential()\n",
        "    # model.add(LSTM(units=n_units, return_sequences=True, input_shape=(input_timesteps, 1)))\n",
        "    model = Sequential()\n",
        "    model.add(Embedding(input_vocab, n_units, input_length=input_timesteps, mask_zero=True))\n",
        "    model.add(LSTM(n_units))\n",
        "    model.add(RepeatVector(output_timesteps))\n",
        "    model.add(LSTM(n_units, return_sequences=True))\n",
        "    model.add(Dense(output_vocab, activation='softmax'))\n",
        "    model.compile(optimizer=\"adam\",\n",
        "                  loss='sparse_categorical_crossentropy',\n",
        "    metrics=[\n",
        "        tensorflow.keras.metrics.MeanSquaredError(name=\"mse\"),\n",
        "        tensorflow.keras.metrics.MeanAbsoluteError(name=\"msa\"),\n",
        "        tensorflow.keras.metrics.BinaryAccuracy(name=\"accuracy\"),\n",
        "    ]\n",
        "    )\n",
        "\n",
        "    return model\n"
      ]
    },
    {
      "cell_type": "code",
      "execution_count": 14,
      "metadata": {
        "colab": {
          "base_uri": "https://localhost:8080/"
        },
        "id": "M8DcGLvKRow4",
        "outputId": "a709bb79-f4ca-4c2a-c6b8-895b5905674a"
      },
      "outputs": [
        {
          "name": "stderr",
          "output_type": "stream",
          "text": [
            "/home/trungkieen/project/playfair-key-prediction/src/env36/lib/python3.11/site-packages/keras/src/layers/core/embedding.py:90: UserWarning: Argument `input_length` is deprecated. Just remove it.\n",
            "  warnings.warn(\n",
            "2025-02-27 13:38:58.651097: E external/local_xla/xla/stream_executor/cuda/cuda_driver.cc:152] failed call to cuInit: INTERNAL: CUDA error: Failed call to cuInit: UNKNOWN ERROR (303)\n"
          ]
        }
      ],
      "source": [
        "model = rnn_machine_translate_model( input_vocab = encrypt_vocab_size, output_vocab = key_vocab_size, input_timesteps= MAX_DECRYPT_SEQUENCES_LEN, output_timesteps= MAX_KEY_SEQUENCES_LEN  ,n_units = LSTM_N_UNITS, n_features = 1)\n",
        "save_model_file = \"translate.keras\"\n",
        "checkpoint = ModelCheckpoint(save_model_file, monitor='val_loss', verbose=1, save_best_only=True, mode='min')\n"
      ]
    },
    {
      "cell_type": "code",
      "execution_count": null,
      "metadata": {
        "colab": {
          "base_uri": "https://localhost:8080/"
        },
        "id": "AY864JS0S_r9",
        "outputId": "77443ab3-780a-46b3-d028-4988ef051c0a"
      },
      "outputs": [
        {
          "name": "stdout",
          "output_type": "stream",
          "text": [
            "Epoch 1/10\n",
            "\u001b[1m 566/6400\u001b[0m \u001b[32m━\u001b[0m\u001b[37m━━━━━━━━━━━━━━━━━━━\u001b[0m \u001b[1m8:25\u001b[0m 87ms/step - accuracy: 0.3529 - loss: 1.2089 - msa: 2.9693 - mse: 21.2609"
          ]
        }
      ],
      "source": [
        "history = model.fit(X_train, y_train.reshape(y_train.shape[0], y_train.shape[1], 1),\n",
        "      epochs=EPORCHS, batch_size=1,\n",
        "      validation_split = 0.2,\n",
        "      callbacks=[checkpoint], verbose=1)\n"
      ]
    },
    {
      "cell_type": "code",
      "execution_count": null,
      "metadata": {
        "id": "Sjs9fOtOTDHO"
      },
      "outputs": [],
      "source": [
        "plt.plot(history.history['loss'])\n",
        "plt.plot(history.history['val_loss'])\n",
        "plt.legend(['train','validation'])\n",
        "plt.show()\n"
      ]
    },
    {
      "cell_type": "markdown",
      "metadata": {
        "id": "89hE0k3ATgMi"
      },
      "source": [
        "Make prediction"
      ]
    },
    {
      "cell_type": "code",
      "execution_count": null,
      "metadata": {
        "id": "UntBAPelThhz"
      },
      "outputs": [],
      "source": [
        "model = load_model(save_model_file)\n",
        "preds = model.predict_classes(X_test.reshape((X_test.shape[0],X_test.shape[1])))"
      ]
    },
    {
      "cell_type": "code",
      "execution_count": null,
      "metadata": {
        "id": "6kOSfBNpTwUA"
      },
      "outputs": [],
      "source": [
        "def evaluate(model, X_test, y_test, tokenizer):\n",
        "    predictions = model.predict(X_test.reshape((X_test.shape[0], X_test.shape[1])), batch_size=64, verbose=0)\n",
        "    predictions = tensor_post_proccess(predictions)\n",
        "    # targets = tensor_post_proccess(y_test)\n",
        "\n",
        "    targets = y_test\n",
        "\n",
        "    # Reverser tokenizer and remove whitespace\n",
        "    predictions = detokenizer(predictions, tokenizer)\n",
        "    targets= detokenizer(y_test ,tokenizer )\n",
        "    data = dict()\n",
        "    data[\"predict\"] = predictions\n",
        "    data[\"actual\"] = targets\n",
        "\n",
        "    df = pd.DataFrame(data)\n",
        "    df.to_csv(\"result.csv\")\n"
      ]
    },
    {
      "cell_type": "code",
      "execution_count": null,
      "metadata": {
        "id": "S5KNBCUNTvB5"
      },
      "outputs": [],
      "source": [
        "evaluate(model, X_test, y_test, label_tokenizer)\n"
      ]
    }
  ],
  "metadata": {
    "colab": {
      "provenance": []
    },
    "kernelspec": {
      "display_name": "env36",
      "language": "python",
      "name": "python3"
    },
    "language_info": {
      "codemirror_mode": {
        "name": "ipython",
        "version": 3
      },
      "file_extension": ".py",
      "mimetype": "text/x-python",
      "name": "python",
      "nbconvert_exporter": "python",
      "pygments_lexer": "ipython3",
      "version": "3.11.11"
    }
  },
  "nbformat": 4,
  "nbformat_minor": 0
}
